{
 "cells": [
  {
   "cell_type": "code",
   "execution_count": null,
   "metadata": {
    "collapsed": true
   },
   "outputs": [],
   "source": []
  },
  {
   "cell_type": "code",
   "execution_count": 1,
   "metadata": {
    "collapsed": false,
    "scrolled": true
   },
   "outputs": [
    {
     "ename": "ImportError",
     "evalue": "No module named click",
     "output_type": "error",
     "traceback": [
      "\u001b[1;31m---------------------------------------------------------------------------\u001b[0m",
      "\u001b[1;31mImportError\u001b[0m                               Traceback (most recent call last)",
      "\u001b[1;32m<ipython-input-1-42795a42a72c>\u001b[0m in \u001b[0;36m<module>\u001b[1;34m()\u001b[0m\n\u001b[1;32m----> 1\u001b[1;33m \u001b[1;32mimport\u001b[0m \u001b[0mdl_acs\u001b[0m\u001b[1;33m\u001b[0m\u001b[0m\n\u001b[0m",
      "\u001b[1;32mH:\\VCS\\Repos\\dl-acs\\dl_acs.py\u001b[0m in \u001b[0;36m<module>\u001b[1;34m()\u001b[0m\n\u001b[0;32m      2\u001b[0m \u001b[1;32mimport\u001b[0m \u001b[0mrequests\u001b[0m\u001b[1;33m\u001b[0m\u001b[0m\n\u001b[0;32m      3\u001b[0m \u001b[1;32mfrom\u001b[0m \u001b[0mbs4\u001b[0m \u001b[1;32mimport\u001b[0m \u001b[0mBeautifulSoup\u001b[0m \u001b[1;32mas\u001b[0m \u001b[0mbs\u001b[0m\u001b[1;33m\u001b[0m\u001b[0m\n\u001b[1;32m----> 4\u001b[1;33m \u001b[1;32mimport\u001b[0m \u001b[0mclick\u001b[0m\u001b[1;33m\u001b[0m\u001b[0m\n\u001b[0m\u001b[0;32m      5\u001b[0m \u001b[1;32mimport\u001b[0m \u001b[0mre\u001b[0m\u001b[1;33m\u001b[0m\u001b[0m\n\u001b[0;32m      6\u001b[0m \u001b[1;32mimport\u001b[0m \u001b[0mus\u001b[0m\u001b[1;33m\u001b[0m\u001b[0m\n",
      "\u001b[1;31mImportError\u001b[0m: No module named click"
     ]
    }
   ],
   "source": [
    "import dl_acs\n"
   ]
  },
  {
   "cell_type": "code",
   "execution_count": 4,
   "metadata": {
    "collapsed": false
   },
   "outputs": [
    {
     "data": {
      "text/plain": [
       "[dl-acs 0.1 (h:\\vcs\\repos\\dl-acs),\n",
       " sphinx 1.3.1 (c:\\anaconda\\lib\\site-packages\\sphinx-1.3.1-py2.7.egg),\n",
       " setuptools 17.1.1 (c:\\anaconda\\lib\\site-packages\\setuptools-17.1.1-py2.7.egg),\n",
       " alabaster 0.7.3 (c:\\anaconda\\lib\\site-packages),\n",
       " argcomplete 0.8.9 (c:\\anaconda\\lib\\site-packages),\n",
       " astropy 1.0.3 (c:\\anaconda\\lib\\site-packages),\n",
       " Babel 1.3 (c:\\anaconda\\lib\\site-packages),\n",
       " backports.ssl-match-hostname 3.4.0.2 (c:\\anaconda\\lib\\site-packages),\n",
       " bcolz 0.9.0 (c:\\anaconda\\lib\\site-packages),\n",
       " beautifulsoup4 4.3.2 (c:\\anaconda\\lib\\site-packages),\n",
       " binstar 0.11.0 (c:\\anaconda\\lib\\site-packages),\n",
       " bitarray 0.8.1 (c:\\anaconda\\lib\\site-packages),\n",
       " blaze 0.8.0 (c:\\anaconda\\lib\\site-packages),\n",
       " blinker 1.4 (c:\\anaconda\\lib\\site-packages),\n",
       " blz 0.6.2 (c:\\anaconda\\lib\\site-packages),\n",
       " bokeh 0.9.0 (c:\\anaconda\\lib\\site-packages),\n",
       " boto 2.38.0 (c:\\anaconda\\lib\\site-packages),\n",
       " Bottleneck 1.0.0 (c:\\anaconda\\lib\\site-packages),\n",
       " cdecimal 2.3 (c:\\anaconda\\lib\\site-packages),\n",
       " certifi 14.5.14 (c:\\anaconda\\lib\\site-packages),\n",
       " cffi 1.1.0 (c:\\anaconda\\lib\\site-packages),\n",
       " clyent 0.3.4 (c:\\anaconda\\lib\\site-packages),\n",
       " colorama 0.3.3 (c:\\anaconda\\lib\\site-packages),\n",
       " conda 3.14.1 (c:\\anaconda\\lib\\site-packages),\n",
       " conda-build 1.14.1 (c:\\anaconda\\lib\\site-packages),\n",
       " conda-env 2.2.3 (c:\\anaconda\\lib\\site-packages),\n",
       " configobj 5.0.6 (c:\\anaconda\\lib\\site-packages),\n",
       " cryptography 0.9.1 (c:\\anaconda\\lib\\site-packages),\n",
       " Cython 0.22.1 (c:\\anaconda\\lib\\site-packages),\n",
       " cytoolz 0.7.3 (c:\\anaconda\\lib\\site-packages),\n",
       " datashape 0.4.5 (c:\\anaconda\\lib\\site-packages),\n",
       " decorator 3.4.2 (c:\\anaconda\\lib\\site-packages),\n",
       " docutils 0.12 (c:\\anaconda\\lib\\site-packages),\n",
       " ecdsa 0.13 (c:\\anaconda\\lib\\site-packages),\n",
       " enum34 1.0.4 (c:\\anaconda\\lib\\site-packages),\n",
       " Fabric 1.10.2 (c:\\anaconda\\lib\\site-packages),\n",
       " fastcache 1.0.2 (c:\\anaconda\\lib\\site-packages),\n",
       " feedgenerator 1.7 (c:\\anaconda\\lib\\site-packages),\n",
       " Flask 0.10.1 (c:\\anaconda\\lib\\site-packages),\n",
       " funcsigs 0.4 (c:\\anaconda\\lib\\site-packages),\n",
       " gevent 1.0.1 (c:\\anaconda\\lib\\site-packages),\n",
       " gevent-websocket 0.9.3 (c:\\anaconda\\lib\\site-packages),\n",
       " greenlet 0.4.7 (c:\\anaconda\\lib\\site-packages),\n",
       " grin 1.2.1 (c:\\anaconda\\lib\\site-packages),\n",
       " h5py 2.5.0 (c:\\anaconda\\lib\\site-packages),\n",
       " idna 2.0 (c:\\anaconda\\lib\\site-packages),\n",
       " ipaddress 1.0.7 (c:\\anaconda\\lib\\site-packages),\n",
       " ipython 3.2.0 (c:\\anaconda\\lib\\site-packages),\n",
       " itsdangerous 0.24 (c:\\anaconda\\lib\\site-packages),\n",
       " jdcal 1.0 (c:\\anaconda\\lib\\site-packages),\n",
       " jedi 0.8.1 (c:\\anaconda\\lib\\site-packages),\n",
       " Jinja2 2.7.3 (c:\\anaconda\\lib\\site-packages),\n",
       " jsonschema 2.4.0 (c:\\anaconda\\lib\\site-packages),\n",
       " latimes-statestyle 0.1.2 (c:\\anaconda\\lib\\site-packages),\n",
       " llvmlite 0.5.0 (c:\\anaconda\\lib\\site-packages),\n",
       " lxml 3.4.4 (c:\\anaconda\\lib\\site-packages),\n",
       " Markdown 2.6.2 (c:\\anaconda\\lib\\site-packages),\n",
       " MarkupSafe 0.23 (c:\\anaconda\\lib\\site-packages),\n",
       " matplotlib 1.4.3 (c:\\anaconda\\lib\\site-packages),\n",
       " menuinst 1.0.4 (c:\\anaconda\\lib\\site-packages),\n",
       " mistune 0.5.1 (c:\\anaconda\\lib\\site-packages),\n",
       " mock 1.0.1 (c:\\anaconda\\lib\\site-packages),\n",
       " multipledispatch 0.4.7 (c:\\anaconda\\lib\\site-packages),\n",
       " networkx 1.9.1 (c:\\anaconda\\lib\\site-packages),\n",
       " nltk 3.0.3 (c:\\anaconda\\lib\\site-packages),\n",
       " nose 1.3.7 (c:\\anaconda\\lib\\site-packages),\n",
       " numba 0.19.1 (c:\\anaconda\\lib\\site-packages),\n",
       " numexpr 2.4.3 (c:\\anaconda\\lib\\site-packages),\n",
       " numpy 1.9.2 (c:\\anaconda\\lib\\site-packages),\n",
       " odo 0.3.2 (c:\\anaconda\\lib\\site-packages),\n",
       " openpyxl 1.8.5 (c:\\anaconda\\lib\\site-packages),\n",
       " pandas 0.16.2 (c:\\anaconda\\lib\\site-packages),\n",
       " paramiko 1.15.2 (c:\\anaconda\\lib\\site-packages),\n",
       " patsy 0.3.0 (c:\\anaconda\\lib\\site-packages),\n",
       " pelican 3.6.3 (c:\\anaconda\\lib\\site-packages),\n",
       " pep8 1.6.2 (c:\\anaconda\\lib\\site-packages),\n",
       " Pillow 2.8.2 (c:\\anaconda\\lib\\site-packages),\n",
       " pip 7.0.3 (c:\\anaconda\\lib\\site-packages),\n",
       " ply 3.6 (c:\\anaconda\\lib\\site-packages),\n",
       " psutil 2.2.1 (c:\\anaconda\\lib\\site-packages),\n",
       " py 1.4.27 (c:\\anaconda\\lib\\site-packages),\n",
       " pyasn1 0.1.7 (c:\\anaconda\\lib\\site-packages),\n",
       " pycosat 0.6.1 (c:\\anaconda\\lib\\site-packages),\n",
       " pycparser 2.14 (c:\\anaconda\\lib\\site-packages),\n",
       " pycrypto 2.6.1 (c:\\anaconda\\lib\\site-packages),\n",
       " pyflakes 0.9.2 (c:\\anaconda\\lib\\site-packages),\n",
       " Pygments 2.0.2 (c:\\anaconda\\lib\\site-packages),\n",
       " pyOpenSSL 0.15.1 (c:\\anaconda\\lib\\site-packages),\n",
       " pyparsing 2.0.3 (c:\\anaconda\\lib\\site-packages),\n",
       " pyreadline 2.0 (c:\\anaconda\\lib\\site-packages),\n",
       " pytest 2.7.1 (c:\\anaconda\\lib\\site-packages),\n",
       " python-dateutil 2.4.2 (c:\\anaconda\\lib\\site-packages),\n",
       " python-tablefu 0.4.2 (c:\\anaconda\\lib\\site-packages),\n",
       " pytz 2015.4 (c:\\anaconda\\lib\\site-packages),\n",
       " pywin32 219 (c:\\anaconda\\lib\\site-packages),\n",
       " PyYAML 3.11 (c:\\anaconda\\lib\\site-packages),\n",
       " pyzmq 14.7.0 (c:\\anaconda\\lib\\site-packages),\n",
       " requests 2.7.0 (c:\\anaconda\\lib\\site-packages),\n",
       " rope 0.9.4 (c:\\anaconda\\lib\\site-packages),\n",
       " runipy 0.1.3 (c:\\anaconda\\lib\\site-packages),\n",
       " scikit-image 0.11.3 (c:\\anaconda\\lib\\site-packages),\n",
       " scikit-learn 0.16.1 (c:\\anaconda\\lib\\site-packages),\n",
       " scipy 0.15.1 (c:\\anaconda\\lib\\site-packages),\n",
       " six 1.9.0 (c:\\anaconda\\lib\\site-packages),\n",
       " snowballstemmer 1.2.0 (c:\\anaconda\\lib\\site-packages),\n",
       " sockjs-tornado 1.0.1 (c:\\anaconda\\lib\\site-packages),\n",
       " sphinx-rtd-theme 0.1.7 (c:\\anaconda\\lib\\site-packages),\n",
       " spyder 2.3.5.2 (c:\\anaconda\\lib\\site-packages),\n",
       " SQLAlchemy 1.0.5 (c:\\anaconda\\lib\\site-packages),\n",
       " statsmodels 0.6.1 (c:\\anaconda\\lib\\site-packages),\n",
       " sympy 0.7.6 (c:\\anaconda\\lib\\site-packages),\n",
       " tables 3.2.0 (c:\\anaconda\\lib\\site-packages),\n",
       " toolz 0.7.2 (c:\\anaconda\\lib\\site-packages),\n",
       " tornado 4.2 (c:\\anaconda\\lib\\site-packages),\n",
       " ujson 1.33 (c:\\anaconda\\lib\\site-packages),\n",
       " unicodecsv 0.9.4 (c:\\anaconda\\lib\\site-packages),\n",
       " Unidecode 0.4.18 (c:\\anaconda\\lib\\site-packages),\n",
       " webassets 0.11.1 (c:\\anaconda\\lib\\site-packages),\n",
       " Werkzeug 0.10.4 (c:\\anaconda\\lib\\site-packages),\n",
       " xlrd 0.9.3 (c:\\anaconda\\lib\\site-packages),\n",
       " XlsxWriter 0.7.3 (c:\\anaconda\\lib\\site-packages),\n",
       " xlwings 0.3.5 (c:\\anaconda\\lib\\site-packages),\n",
       " xlwt 1.0.0 (c:\\anaconda\\lib\\site-packages)]"
      ]
     },
     "execution_count": 4,
     "metadata": {},
     "output_type": "execute_result"
    }
   ],
   "source": [
    "import pip\n",
    "pip.get_installed_distributions()\n"
   ]
  }
 ],
 "metadata": {
  "kernelspec": {
   "display_name": "Python 2",
   "language": "python",
   "name": "python2"
  },
  "language_info": {
   "codemirror_mode": {
    "name": "ipython",
    "version": 2
   },
   "file_extension": ".py",
   "mimetype": "text/x-python",
   "name": "python",
   "nbconvert_exporter": "python",
   "pygments_lexer": "ipython2",
   "version": "2.7.10"
  }
 },
 "nbformat": 4,
 "nbformat_minor": 0
}
